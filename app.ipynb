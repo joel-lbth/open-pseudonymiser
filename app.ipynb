{
 "cells": [
  {
   "cell_type": "code",
   "execution_count": null,
   "metadata": {},
   "outputs": [],
   "source": [
    "import os\n",
    "from pathlib import Path\n",
    "# pip install pyjnius\n",
    "import jnius_config"
   ]
  },
  {
   "cell_type": "code",
   "execution_count": null,
   "metadata": {},
   "outputs": [],
   "source": [
    "# note - OpenPseudonymiserCryptoLib.jar should be in the dist dir of the project\n",
    "# note - you will need to have built (or downloaded) it there\n",
    "file_path = os.path.join(\n",
    "    Path(__file__).parent.absolute(), \"dist\", \"*\"\n",
    ")\n",
    "jnius_config.set_classpath(\".\", file_path)\n",
    "from jnius import autoclass\n",
    "print(file_path)"
   ]
  },
  {
   "cell_type": "code",
   "execution_count": null,
   "metadata": {},
   "outputs": [],
   "source": [
    "# import java code\n",
    "Crypto = autoclass(\"OpenPseudonymiser.Crypto\")\n",
    "crypto = Crypto()"
   ]
  },
  {
   "cell_type": "code",
   "execution_count": null,
   "metadata": {},
   "outputs": [],
   "source": [
    "# encrypt salt for extra security\n",
    "file_path = \"./mackerel.EncryptedSalt\"\n",
    "File = autoclass(\"java.io.File\")\n",
    "file = File(file_path)\n",
    "crypto.SetEncryptedSalt(file)"
   ]
  },
  {
   "cell_type": "code",
   "execution_count": null,
   "metadata": {},
   "outputs": [],
   "source": [
    "# create some test data\n",
    "Map = autoclass(\"java.util.Map\")\n",
    "TreeMap = autoclass(\"java.util.TreeMap\")\n",
    "treeMap = TreeMap()\n",
    "treeMap.put(\"DOB\", \"29.11.1973\")\n",
    "treeMap.put(\"NHSNumber\", \"943 476 5919\")"
   ]
  },
  {
   "cell_type": "code",
   "execution_count": null,
   "metadata": {},
   "outputs": [],
   "source": [
    "# test encryption matches expected outcome\n",
    "try:\n",
    "    assert \"ED72F814B7905F3D3958749FA90FE657C101EC657402783DB68CBE3513E76087\" == crypto.GetDigest(treeMap)\n",
    "    print(\"test passed\", crypto.GetDigest(treeMap))\n",
    "except(Exception):\n",
    "    print(Exception)\n",
    "    print(\"test failed\")\n"
   ]
  }
 ],
 "metadata": {
  "kernelspec": {
   "display_name": "pseudonymiser",
   "language": "python",
   "name": "python3"
  },
  "language_info": {
   "name": "python",
   "version": "3.12.0"
  }
 },
 "nbformat": 4,
 "nbformat_minor": 2
}
