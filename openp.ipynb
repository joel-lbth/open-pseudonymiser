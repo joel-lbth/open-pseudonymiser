{
 "cells": [
  {
   "cell_type": "markdown",
   "metadata": {},
   "source": [
    "# openp\n",
    "\n",
    "## README\n",
    "\n",
    "this notebook implements open-pseudonymiser in jupyter\n",
    "\n",
    "_note: the kernel needs to be manually restarted before you can re-run this notebook - if you see_ `VM is already running...` _then you need to restart the kernel_\n",
    "\n",
    "## dependencies\n",
    "\n",
    "### java\n",
    "\n",
    "as installed by [scoop](https://scoop.sh)\n",
    "\n",
    "```\n",
    "scoop bucket add java\n",
    "scoop install java/zulu-jdk\n",
    "```\n",
    "\n",
    "## ant\n",
    "\n",
    "if you want to build the jar (hint, you should be able to base your tests on the current codebase, so it's worth building the libray jar)\n",
    "\n",
    "```\n",
    "scoop install main/ant\n",
    "```\n",
    "\n",
    "## pyjnius\n",
    "\n",
    "```sh\n",
    "pip install pyjnius\n",
    "```"
   ]
  },
  {
   "cell_type": "markdown",
   "metadata": {},
   "source": [
    "# code\n",
    "\n",
    "python imports"
   ]
  },
  {
   "cell_type": "code",
   "execution_count": 1,
   "metadata": {},
   "outputs": [],
   "source": [
    "import os\n",
    "from pathlib import Path\n",
    "# pip install pyjnius\n",
    "import jnius_config\n"
   ]
  },
  {
   "cell_type": "markdown",
   "metadata": {},
   "source": [
    "setting up java library: `OpenPseudonymiserCryptoLib.jar`"
   ]
  },
  {
   "cell_type": "code",
   "execution_count": 2,
   "metadata": {},
   "outputs": [],
   "source": [
    "def set_java_lib(jar_path):\n",
    "  \"\"\"set location of OpenPseudonymiserCryptoLib.jar \n",
    "  note - you will need to have built (or downloaded) it first\n",
    "\n",
    "  Args:\n",
    "      jar_path (string): path to lib jar\n",
    "\n",
    "  Returns:\n",
    "      string: location\n",
    "  \"\"\"  \n",
    "  jnius_config.set_classpath(\".\", jar_path)\n",
    "  return jar_path"
   ]
  },
  {
   "cell_type": "markdown",
   "metadata": {},
   "source": [
    "import the `crypto` lib from the jar"
   ]
  },
  {
   "cell_type": "code",
   "execution_count": 3,
   "metadata": {},
   "outputs": [],
   "source": [
    "def import_java_crypto():\n",
    "  \"\"\"import the crypto lib from java\n",
    "  \"\"\"\n",
    "  from jnius import autoclass\n",
    "  Crypto = autoclass(\"OpenPseudonymiser.Crypto\")\n",
    "  crypto = Crypto()\n",
    "  return crypto"
   ]
  },
  {
   "cell_type": "markdown",
   "metadata": {},
   "source": [
    "give the crypto lib an ecryption salt that has itself been encrypted"
   ]
  },
  {
   "cell_type": "code",
   "execution_count": 4,
   "metadata": {},
   "outputs": [],
   "source": [
    "def set_encrypted_salt(salt_path, crypto):\n",
    "  \"\"\" usually ./mackerel.EncryptedSalt\"\n",
    "\n",
    "  Args:\n",
    "      salt_path (string): path to encrypted salt\n",
    "      crypto (object): the java crypto class\n",
    "\n",
    "  Returns:\n",
    "      object: the java crypto class\n",
    "  \"\"\"\n",
    "  from jnius import autoclass\n",
    "  File = autoclass(\"java.io.File\")\n",
    "  file = File(salt_path)\n",
    "  crypto.SetEncryptedSalt(file)\n",
    "  return crypto"
   ]
  },
  {
   "cell_type": "markdown",
   "metadata": {},
   "source": [
    "### test\n",
    "\n",
    "this test creates a dataset, and tests that encrypting a known dataset with a salt encrypted by someone else (trusted keyholder) produces the same encrypted output"
   ]
  },
  {
   "cell_type": "code",
   "execution_count": 5,
   "metadata": {},
   "outputs": [],
   "source": [
    "def test_crypto(crypto):\n",
    "  from jnius import autoclass\n",
    "  Map = autoclass(\"java.util.Map\")\n",
    "  TreeMap = autoclass(\"java.util.TreeMap\")\n",
    "  treeMap = TreeMap()\n",
    "  treeMap.put(\"DOB\", \"29.11.1973\")\n",
    "  treeMap.put(\"NHSNumber\", \"943 476 5919\")\n",
    "\n",
    "  # test encryption matches expected outcome \n",
    "  try:\n",
    "      assert \"ED72F814B7905F3D3958749FA90FE657C101EC657402783DB68CBE3513E76087\" == crypto.GetDigest(treeMap)\n",
    "      print(\"test passed\", crypto.GetDigest(treeMap))\n",
    "  except(Exception):\n",
    "      print(Exception)\n",
    "      print(\"test failed\")\n"
   ]
  },
  {
   "cell_type": "markdown",
   "metadata": {},
   "source": [
    "### put it all together"
   ]
  },
  {
   "cell_type": "code",
   "execution_count": 6,
   "metadata": {},
   "outputs": [
    {
     "name": "stdout",
     "output_type": "stream",
     "text": [
      "test passed ED72F814B7905F3D3958749FA90FE657C101EC657402783DB68CBE3513E76087\n"
     ]
    }
   ],
   "source": [
    "# set crypto lib\n",
    "jar_path = os.path.join(\n",
    "    Path(os.getcwd()).absolute()\n",
    "    , \"dist\"\n",
    "    , \"*\"\n",
    ")\n",
    "# jar_path = os.path.join(Path(os.getcwd()).absolute(), \"dist\", \"*\")\n",
    "set_java_lib(jar_path)\n",
    "\n",
    "# get crypto class\n",
    "crypto = import_java_crypto()  \n",
    "\n",
    "# set salt\n",
    "salt_path = \"./mackerel.EncryptedSalt\"\n",
    "set_encrypted_salt(salt_path, crypto)\n",
    "\n",
    "# some test data\n",
    "test_crypto(crypto)\n"
   ]
  },
  {
   "cell_type": "code",
   "execution_count": null,
   "metadata": {},
   "outputs": [],
   "source": []
  }
 ],
 "metadata": {
  "kernelspec": {
   "display_name": "pseudonymiser",
   "language": "python",
   "name": "python3"
  },
  "language_info": {
   "codemirror_mode": {
    "name": "ipython",
    "version": 3
   },
   "file_extension": ".py",
   "mimetype": "text/x-python",
   "name": "python",
   "nbconvert_exporter": "python",
   "pygments_lexer": "ipython3",
   "version": "3.12.0"
  }
 },
 "nbformat": 4,
 "nbformat_minor": 2
}
