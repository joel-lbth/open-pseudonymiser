{
 "cells": [
  {
   "cell_type": "markdown",
   "metadata": {},
   "source": [
    "# openp\n",
    "\n",
    "this notebook implements open-pseudonymiser in jupyter\n",
    "\n",
    "## dependencies\n",
    "\n",
    "### java\n",
    "\n",
    "as installed by [scoop](https://scoop.sh)\n",
    "\n",
    "```sh\n",
    "scoop bucket add java\n",
    "scoop install java/zulu-jdk\n",
    "```\n",
    "\n",
    "### ant\n",
    "\n",
    "if you want to build the jar (hint, you should be able to base your tests on the current codebase, so it's worth building the libray jar)\n",
    "\n",
    "```sh\n",
    "scoop install main/ant\n",
    "```\n",
    "\n",
    "... then simply run \n",
    "\n",
    "```\n",
    "ant\n",
    "```\n",
    "\n",
    "### pyjnius\n",
    "\n",
    "a python library that uses JNI (java native interface) to use java code\n",
    "\n",
    "```sh\n",
    "pip install pyjnius\n",
    "```"
   ]
  },
  {
   "cell_type": "markdown",
   "metadata": {},
   "source": [
    "## code\n",
    "\n",
    "### python imports"
   ]
  },
  {
   "cell_type": "code",
   "execution_count": 1,
   "metadata": {},
   "outputs": [],
   "source": [
    "import os\n",
    "from pathlib import Path\n",
    "# pip install pyjnius\n",
    "import jnius_config\n"
   ]
  },
  {
   "cell_type": "markdown",
   "metadata": {},
   "source": [
    "### getting OpenPseudonymiserCryptoLib.jar\n",
    "\n",
    "you can either build OpenPseudonymiserCryptoLib.jar from the codebase by running\n",
    "\n",
    "```sh\n",
    "ant\n",
    "```\n",
    "\n",
    "... or download it"
   ]
  },
  {
   "cell_type": "code",
   "execution_count": 2,
   "metadata": {},
   "outputs": [],
   "source": [
    "def set_java_lib(jar_path):\n",
    "  \"\"\"set location of OpenPseudonymiserCryptoLib.jar \n",
    "  note - you will need to have built (or downloaded) it first\n",
    "\n",
    "  Args:\n",
    "      jar_path (string): path to lib jar\n",
    "\n",
    "  Returns:\n",
    "      string: location\n",
    "  \"\"\"  \n",
    "  jnius_config.set_classpath(\".\", jar_path)\n",
    "  return jar_path"
   ]
  },
  {
   "cell_type": "markdown",
   "metadata": {},
   "source": [
    "### import the `crypto` lib from the jar"
   ]
  },
  {
   "cell_type": "code",
   "execution_count": 3,
   "metadata": {},
   "outputs": [],
   "source": [
    "def import_java_crypto():\n",
    "  \"\"\"import the crypto lib from java\n",
    "  \"\"\"\n",
    "  from jnius import autoclass\n",
    "  Crypto = autoclass(\"OpenPseudonymiser.Crypto\")\n",
    "  crypto = Crypto()\n",
    "  return crypto"
   ]
  },
  {
   "cell_type": "markdown",
   "metadata": {},
   "source": [
    "### use encrypted salt\n",
    "\n",
    "give the crypto lib an ecryption salt that has itself been encrypted"
   ]
  },
  {
   "cell_type": "code",
   "execution_count": 4,
   "metadata": {},
   "outputs": [],
   "source": [
    "def set_encrypted_salt(salt_path, crypto):\n",
    "  \"\"\" usually ./mackerel.EncryptedSalt\"\n",
    "\n",
    "  Args:\n",
    "      salt_path (string): path to encrypted salt\n",
    "      crypto (object): the java crypto class\n",
    "\n",
    "  Returns:\n",
    "      object: the java crypto class\n",
    "  \"\"\"\n",
    "  from jnius import autoclass\n",
    "  File = autoclass(\"java.io.File\")\n",
    "  file = File(salt_path)\n",
    "  crypto.SetEncryptedSalt(file)\n",
    "  return crypto"
   ]
  },
  {
   "cell_type": "markdown",
   "metadata": {},
   "source": [
    "### test\n",
    "\n",
    "this test creates a dataset, and tests that encrypting a known dataset with a salt encrypted by someone else (trusted keyholder) produces the same encrypted output"
   ]
  },
  {
   "cell_type": "code",
   "execution_count": 5,
   "metadata": {},
   "outputs": [],
   "source": [
    "def test_crypto(crypto):\n",
    "  from jnius import autoclass\n",
    "  Map = autoclass(\"java.util.Map\")\n",
    "  TreeMap = autoclass(\"java.util.TreeMap\")\n",
    "  treeMap = TreeMap()\n",
    "  treeMap.put(\"DOB\", \"29.11.1973\")\n",
    "  treeMap.put(\"NHSNumber\", \"943 476 5919\")\n",
    "\n",
    "  # test encryption matches expected outcome \n",
    "  try:\n",
    "      assert \"ED72F814B7905F3D3958749FA90FE657C101EC657402783DB68CBE3513E76087\" == crypto.GetDigest(treeMap)\n",
    "      return(\"test passed\", crypto.GetDigest(treeMap))\n",
    "  except(Exception):\n",
    "      return(Exception)\n"
   ]
  },
  {
   "cell_type": "markdown",
   "metadata": {},
   "source": [
    "### run the test"
   ]
  },
  {
   "cell_type": "code",
   "execution_count": 6,
   "metadata": {},
   "outputs": [
    {
     "name": "stdout",
     "output_type": "stream",
     "text": [
      "('test passed', 'ED72F814B7905F3D3958749FA90FE657C101EC657402783DB68CBE3513E76087')\n"
     ]
    }
   ],
   "source": [
    "# set crypto lib\n",
    "jar_path = os.path.join(\n",
    "    Path(os.getcwd()).absolute()\n",
    "    , \"dist\"\n",
    "    , \"*\"\n",
    ")\n",
    "try:\n",
    "    # only needed to run this once\n",
    "    set_java_lib(jar_path)\n",
    "except:\n",
    "    # print('note: couldn\\'t set java lib in JVM, likely because it is already running')\n",
    "    pass\n",
    "\n",
    "# get crypto class\n",
    "crypto = import_java_crypto()  \n",
    "\n",
    "# set salt\n",
    "salt_path = \"./mackerel.EncryptedSalt\"\n",
    "set_encrypted_salt(salt_path, crypto)\n",
    "\n",
    "# some test data\n",
    "print(test_crypto(crypto))\n"
   ]
  },
  {
   "cell_type": "markdown",
   "metadata": {},
   "source": [
    "### encrypt columns with PII"
   ]
  },
  {
   "cell_type": "code",
   "execution_count": 7,
   "metadata": {},
   "outputs": [
    {
     "data": {
      "text/html": [
       "<div>\n",
       "<style scoped>\n",
       "    .dataframe tbody tr th:only-of-type {\n",
       "        vertical-align: middle;\n",
       "    }\n",
       "\n",
       "    .dataframe tbody tr th {\n",
       "        vertical-align: top;\n",
       "    }\n",
       "\n",
       "    .dataframe thead th {\n",
       "        text-align: right;\n",
       "    }\n",
       "</style>\n",
       "<table border=\"1\" class=\"dataframe\">\n",
       "  <thead>\n",
       "    <tr style=\"text-align: right;\">\n",
       "      <th></th>\n",
       "      <th>upn</th>\n",
       "      <th>school</th>\n",
       "      <th>forename</th>\n",
       "      <th>surname</th>\n",
       "      <th>door_number</th>\n",
       "      <th>postcode</th>\n",
       "    </tr>\n",
       "  </thead>\n",
       "  <tbody>\n",
       "    <tr>\n",
       "      <th>0</th>\n",
       "      <td>C28751DE095AED7F05DF04D09FF596827D6D8B5E8F8715...</td>\n",
       "      <td>school x</td>\n",
       "      <td>4D228D5303398735BF3887FA107C2A39D6456166053D82...</td>\n",
       "      <td>A2B570BD5BA407D6D3100CA7637E84D0CEC3163322413D...</td>\n",
       "      <td>9BC76C53885BB2515773FC29B7BEB19BFCCDA241F17F79...</td>\n",
       "      <td>FO0 8AR</td>\n",
       "    </tr>\n",
       "    <tr>\n",
       "      <th>1</th>\n",
       "      <td>6E55FDB4F05886727797BFC5B97A4EC0F3048881815DFD...</td>\n",
       "      <td>school y</td>\n",
       "      <td>9F5EEB0D7D9B4D19AB1418D2CBEABE08EE3F4013FE56AC...</td>\n",
       "      <td>CC1E5AE140716C0CC1C67DBAF3DC2588888C5800537B8C...</td>\n",
       "      <td>342E4977E7102ED61AA227BF38F593875A5A68F3D8E7B0...</td>\n",
       "      <td>FO0 8AZ</td>\n",
       "    </tr>\n",
       "  </tbody>\n",
       "</table>\n",
       "</div>"
      ],
      "text/plain": [
       "                                                 upn    school  \\\n",
       "0  C28751DE095AED7F05DF04D09FF596827D6D8B5E8F8715...  school x   \n",
       "1  6E55FDB4F05886727797BFC5B97A4EC0F3048881815DFD...  school y   \n",
       "\n",
       "                                            forename  \\\n",
       "0  4D228D5303398735BF3887FA107C2A39D6456166053D82...   \n",
       "1  9F5EEB0D7D9B4D19AB1418D2CBEABE08EE3F4013FE56AC...   \n",
       "\n",
       "                                             surname  \\\n",
       "0  A2B570BD5BA407D6D3100CA7637E84D0CEC3163322413D...   \n",
       "1  CC1E5AE140716C0CC1C67DBAF3DC2588888C5800537B8C...   \n",
       "\n",
       "                                         door_number postcode  \n",
       "0  9BC76C53885BB2515773FC29B7BEB19BFCCDA241F17F79...  FO0 8AR  \n",
       "1  342E4977E7102ED61AA227BF38F593875A5A68F3D8E7B0...  FO0 8AZ  "
      ]
     },
     "execution_count": 7,
     "metadata": {},
     "output_type": "execute_result"
    }
   ],
   "source": [
    "# create a sample DataFrame\n",
    "import pandas as pd\n",
    "from jnius import autoclass\n",
    "\n",
    "data: dict[str, list[str]] = {\n",
    "    'upn': ['A012345678901','A012345678902'],\n",
    "    'school': ['school x', 'school y'],\n",
    "    'forename': ['forname x', 'forname y'],\n",
    "    'surname': ['surname x', 'surnme y'],\n",
    "    'door_number': ['1a', '2b'],\n",
    "    'postcode': ['FO0 8AR', 'FO0 8AZ']\n",
    "}\n",
    "df = pd.DataFrame(data)\n",
    "\n",
    "def encrypt_dataframe(df, salt, columns_to_encrypt):\n",
    "    \n",
    "    try:\n",
    "        # only needed to run this once\n",
    "        set_java_lib(jar_path)\n",
    "    except:\n",
    "        # print('note: couldn\\'t set java lib in JVM, likely because it is already running')\n",
    "        pass\n",
    "\n",
    "    # instantiate a crypto\n",
    "    crypto = import_java_crypto()  \n",
    "    # give it a salt ...an encrypted salt\n",
    "    set_encrypted_salt(salt, crypto)\n",
    "    TreeMap = autoclass(\"java.util.TreeMap\")\n",
    "\n",
    "\n",
    "    # convert a key value pair to TreeMapp and encrypt it\n",
    "    def encrypt_field(key, val):\n",
    "        field = TreeMap()\n",
    "        field.put(key, val)\n",
    "        return crypto.GetDigest(field)\n",
    "\n",
    "    # cycle through the df and encrypt required fields\n",
    "    for col in columns_to_encrypt:\n",
    "        df[col] = df[col].apply(lambda x: encrypt_field(col, x))\n",
    "    return df\n",
    "\n",
    "ed = encrypt_dataframe(df, salt=\"./mackerel.EncryptedSalt\", columns_to_encrypt = ['upn','forename','surname', 'door_number'])\n",
    "ed.head()\n"
   ]
  }
 ],
 "metadata": {
  "kernelspec": {
   "display_name": "pseudonymiser",
   "language": "python",
   "name": "python3"
  },
  "language_info": {
   "codemirror_mode": {
    "name": "ipython",
    "version": 3
   },
   "file_extension": ".py",
   "mimetype": "text/x-python",
   "name": "python",
   "nbconvert_exporter": "python",
   "pygments_lexer": "ipython3",
   "version": "3.12.0"
  }
 },
 "nbformat": 4,
 "nbformat_minor": 2
}
